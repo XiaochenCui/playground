{
  "cells": [
    {
      "cell_type": "code",
      "execution_count": 19,
      "metadata": {
        "id": "BRu3FVsqqJUW"
      },
      "outputs": [],
      "source": [
        "import pyspark"
      ]
    },
    {
      "cell_type": "code",
      "execution_count": 20,
      "metadata": {
        "colab": {
          "base_uri": "https://localhost:8080/",
          "height": 219
        },
        "id": "Qz0Wio2TqVu2",
        "outputId": "4a556870-5405-4874-a9df-ec9b5aa919f7"
      },
      "outputs": [
        {
          "data": {
            "text/html": [
              "\n",
              "            <div>\n",
              "                <p><b>SparkSession - in-memory</b></p>\n",
              "                \n",
              "        <div>\n",
              "            <p><b>SparkContext</b></p>\n",
              "\n",
              "            <p><a href=\"http://192.168.0.160:4041\">Spark UI</a></p>\n",
              "\n",
              "            <dl>\n",
              "              <dt>Version</dt>\n",
              "                <dd><code>v4.0.0</code></dd>\n",
              "              <dt>Master</dt>\n",
              "                <dd><code>local[*]</code></dd>\n",
              "              <dt>AppName</dt>\n",
              "                <dd><code>filter operations</code></dd>\n",
              "            </dl>\n",
              "        </div>\n",
              "        \n",
              "            </div>\n",
              "        "
            ],
            "text/plain": [
              "<pyspark.sql.session.SparkSession at 0x7b35195723c0>"
            ]
          },
          "execution_count": 20,
          "metadata": {},
          "output_type": "execute_result"
        }
      ],
      "source": [
        "#Create pyspark session\n",
        "from pyspark.sql import SparkSession\n",
        "spark=SparkSession.builder.appName(\"filter operations\").getOrCreate()\n",
        "spark"
      ]
    },
    {
      "cell_type": "code",
      "execution_count": 21,
      "metadata": {
        "colab": {
          "base_uri": "https://localhost:8080/"
        },
        "id": "ShC6FaeTqaPN",
        "outputId": "1b9918b2-bfdf-4894-ee44-0eac6f6983b6"
      },
      "outputs": [
        {
          "name": "stdout",
          "output_type": "stream",
          "text": [
            "+----+----------+----+----------+------+\n",
            "|Name|Department| Age|experience|salary|\n",
            "+----+----------+----+----------+------+\n",
            "|  AA|        D1|  25|         1|    70|\n",
            "|  BB|        D1|  30|         3|   100|\n",
            "|  CC|        D2|  35|         4|   110|\n",
            "|  DD|        D3|  22|         1|    60|\n",
            "|  EE|        D2|NULL|         3|    75|\n",
            "|NULL|      NULL|NULL|      NULL|  NULL|\n",
            "|  FF|      NULL|  44|         3|    73|\n",
            "|  ZZ|        D3|  23|         2|    46|\n",
            "|  KK|        D4|NULL|         2|    80|\n",
            "+----+----------+----+----------+------+\n",
            "\n"
          ]
        }
      ],
      "source": [
        "#Read data\n",
        "spark_df=spark.read.csv('test_file.csv',header=True,enforceSchema=True)\n",
        "spark_df.show()"
      ]
    },
    {
      "cell_type": "code",
      "execution_count": 22,
      "metadata": {
        "colab": {
          "base_uri": "https://localhost:8080/"
        },
        "id": "lG-0KNy3qcqO",
        "outputId": "f964bf42-6e30-4ab3-a2d1-0724f17ad691"
      },
      "outputs": [
        {
          "name": "stdout",
          "output_type": "stream",
          "text": [
            "root\n",
            " |-- Name: string (nullable = true)\n",
            " |-- Department: string (nullable = true)\n",
            " |-- Age: integer (nullable = true)\n",
            " |-- experience: integer (nullable = true)\n",
            " |-- salary: integer (nullable = true)\n",
            "\n"
          ]
        }
      ],
      "source": [
        "#Cast Columns to the Correct Data Types:\n",
        "\n",
        "from pyspark.sql.types import IntegerType, DoubleType\n",
        "\n",
        "cols=[\"Age\",\"experience\",\"salary\"]\n",
        "\n",
        "for col in cols:\n",
        "  spark_df = spark_df.withColumn(col, spark_df[col].cast(IntegerType()))\n",
        "spark_df.printSchema()"
      ]
    },
    {
      "cell_type": "code",
      "execution_count": 23,
      "metadata": {
        "colab": {
          "base_uri": "https://localhost:8080/"
        },
        "id": "mXoQ_2SFrq5G",
        "outputId": "85a325da-b945-4e0d-f31a-d001e7e1ddfa"
      },
      "outputs": [
        {
          "name": "stdout",
          "output_type": "stream",
          "text": [
            "+----+----------+----+----------+------+\n",
            "|Name|Department| Age|experience|salary|\n",
            "+----+----------+----+----------+------+\n",
            "|  AA|        D1|  25|         1|    70|\n",
            "|  BB|        D1|  30|         3|   100|\n",
            "|  CC|        D2|  35|         4|   110|\n",
            "|  DD|        D3|  22|         1|    60|\n",
            "|  EE|        D2|NULL|         3|    75|\n",
            "|NULL|      NULL|NULL|      NULL|  NULL|\n",
            "|  FF|      NULL|  44|         3|    73|\n",
            "|  ZZ|        D3|  23|         2|    46|\n",
            "|  KK|        D4|NULL|         2|    80|\n",
            "+----+----------+----+----------+------+\n",
            "\n"
          ]
        }
      ],
      "source": [
        "spark_df.show()"
      ]
    },
    {
      "cell_type": "code",
      "execution_count": 24,
      "metadata": {},
      "outputs": [
        {
          "name": "stdout",
          "output_type": "stream",
          "text": [
            "+----+----------+---+----------+------+\n",
            "|Name|Department|Age|experience|salary|\n",
            "+----+----------+---+----------+------+\n",
            "|  AA|        D1| 25|         1|    70|\n",
            "|  BB|        D1| 30|         3|   100|\n",
            "|  CC|        D2| 35|         4|   110|\n",
            "|  DD|        D3| 22|         1|    60|\n",
            "|  EE|        D2| 30|         3|    75|\n",
            "|NULL|   Unknown| 30|      NULL|  NULL|\n",
            "|  FF|   Unknown| 44|         3|    73|\n",
            "|  ZZ|        D3| 23|         2|    46|\n",
            "|  KK|        D4| 30|         2|    80|\n",
            "+----+----------+---+----------+------+\n",
            "\n"
          ]
        }
      ],
      "source": [
        "spark_df.fillna({'Age':30,'Department':'Unknown'}).show()\n",
        "\n",
        "spark_df = spark_df.fillna({'Age':30,'Department':'Unknown'})"
      ]
    },
    {
      "cell_type": "code",
      "execution_count": 25,
      "metadata": {
        "colab": {
          "base_uri": "https://localhost:8080/"
        },
        "id": "bvzAkHKJqgr4",
        "outputId": "c173e771-edc6-4519-fdf0-58febe75d27f"
      },
      "outputs": [
        {
          "name": "stdout",
          "output_type": "stream",
          "text": [
            "+----+----------+---+----------+------+\n",
            "|Name|Department|Age|experience|salary|\n",
            "+----+----------+---+----------+------+\n",
            "|  AA|        D1| 25|         1|    70|\n",
            "|  BB|        D1| 30|         3|   100|\n",
            "|  CC|        D2| 35|         4|   110|\n",
            "|  DD|        D3| 22|         1|    60|\n",
            "|  EE|        D2| 30|         3|    75|\n",
            "|NULL|   Unknown| 30|      NULL|  NULL|\n",
            "|  FF|   Unknown| 44|         3|    73|\n",
            "|  ZZ|        D3| 23|         2|    46|\n",
            "|  KK|        D4| 30|         2|    80|\n",
            "+----+----------+---+----------+------+\n",
            "\n"
          ]
        }
      ],
      "source": [
        "#fillimg with stats using imputer\n",
        "from pyspark.ml.feature import Imputer\n",
        "\n",
        "imputer=Imputer(inputCols=['Age'],outputCols=['Age']).setStrategy('mean')     #or mode, median\n",
        "df_imputed=imputer.fit(spark_df).transform(spark_df)\n",
        "df_imputed.show()"
      ]
    },
    {
      "cell_type": "code",
      "execution_count": 26,
      "metadata": {
        "colab": {
          "base_uri": "https://localhost:8080/"
        },
        "id": "UByKPTEXtPYv",
        "outputId": "f3750507-573d-4516-a0cd-d8ca6a0da036"
      },
      "outputs": [
        {
          "name": "stdout",
          "output_type": "stream",
          "text": [
            "+----+----------+---+----------+------+\n",
            "|Name|Department|Age|experience|salary|\n",
            "+----+----------+---+----------+------+\n",
            "|  AA|        D1| 25|         1|    70|\n",
            "|  BB|        D1| 30|         3|   100|\n",
            "|  CC|        D2| 35|         4|   110|\n",
            "|  DD|        D3| 22|         1|    60|\n",
            "|  EE|        D2| 30|         3|    75|\n",
            "|NULL|   Unknown| 30|      NULL|    76|\n",
            "|  FF|   Unknown| 44|         3|    73|\n",
            "|  ZZ|        D3| 23|         2|    46|\n",
            "|  KK|        D4| 30|         2|    80|\n",
            "+----+----------+---+----------+------+\n",
            "\n"
          ]
        }
      ],
      "source": [
        "imputer=Imputer(inputCols=['salary'],outputCols=['salary']).setStrategy('mean')     #or mode, median\n",
        "df_imputed=imputer.fit(df_imputed).transform(df_imputed)\n",
        "df_imputed.show()"
      ]
    },
    {
      "cell_type": "code",
      "execution_count": 27,
      "metadata": {
        "colab": {
          "base_uri": "https://localhost:8080/"
        },
        "id": "knSw26cotoMi",
        "outputId": "d9565c5d-e52c-491a-f66d-2e5e98af6a45"
      },
      "outputs": [
        {
          "name": "stdout",
          "output_type": "stream",
          "text": [
            "+----+----------+---+----------+------+\n",
            "|Name|Department|Age|experience|salary|\n",
            "+----+----------+---+----------+------+\n",
            "|  AA|        D1| 25|         1|    70|\n",
            "|  BB|        D1| 30|         3|   100|\n",
            "|  CC|        D2| 35|         4|   110|\n",
            "|  DD|        D3| 22|         1|    60|\n",
            "|  EE|        D2| 30|         3|    75|\n",
            "|NULL|   Unknown| 30|         3|    76|\n",
            "|  FF|   Unknown| 44|         3|    73|\n",
            "|  ZZ|        D3| 23|         2|    46|\n",
            "|  KK|        D4| 30|         2|    80|\n",
            "+----+----------+---+----------+------+\n",
            "\n"
          ]
        }
      ],
      "source": [
        "imputer=Imputer(inputCols=['experience'],outputCols=['experience']).setStrategy('mode')     #or mode, median\n",
        "df_imputed=imputer.fit(df_imputed).transform(df_imputed)\n",
        "df_imputed.show()"
      ]
    },
    {
      "cell_type": "code",
      "execution_count": 28,
      "metadata": {
        "colab": {
          "base_uri": "https://localhost:8080/"
        },
        "id": "JRLvEEg1spg_",
        "outputId": "4981be80-42e7-4c08-cbb8-fe15c66d4389"
      },
      "outputs": [
        {
          "name": "stdout",
          "output_type": "stream",
          "text": [
            "+----+----------+---+----------+------+\n",
            "|Name|Department|Age|experience|salary|\n",
            "+----+----------+---+----------+------+\n",
            "|  AA|        D1| 25|         1|    70|\n",
            "|  BB|        D1| 30|         3|   100|\n",
            "|  CC|        D2| 35|         4|   110|\n",
            "|  DD|        D3| 22|         1|    60|\n",
            "|  EE|        D2| 30|         3|    75|\n",
            "|NULL|   Unknown| 30|         3|    76|\n",
            "|  FF|   Unknown| 44|         3|    73|\n",
            "|  ZZ|        D3| 23|         2|    46|\n",
            "|  KK|        D4| 30|         2|    80|\n",
            "+----+----------+---+----------+------+\n",
            "\n"
          ]
        }
      ],
      "source": [
        "mode_value = df_imputed.groupBy(\"Department\").count().orderBy(\"count\", ascending=False).first()[0]\n",
        "df_imputed = df_imputed.fillna({'Department': mode_value})\n",
        "df_imputed.show()"
      ]
    },
    {
      "cell_type": "markdown",
      "metadata": {
        "id": "SRFM_NcHtIVa"
      },
      "source": [
        "**Filtering based on operators**"
      ]
    },
    {
      "cell_type": "code",
      "execution_count": 29,
      "metadata": {
        "colab": {
          "base_uri": "https://localhost:8080/"
        },
        "id": "BIJnYMb9rEoy",
        "outputId": "c4ffb7d7-96d6-4f94-faf8-ff9a1c62cfde"
      },
      "outputs": [
        {
          "name": "stdout",
          "output_type": "stream",
          "text": [
            "+----+----------+---+----------+------+\n",
            "|Name|Department|Age|experience|salary|\n",
            "+----+----------+---+----------+------+\n",
            "|  BB|        D1| 30|         3|   100|\n",
            "|  CC|        D2| 35|         4|   110|\n",
            "|  EE|        D2| 30|         3|    75|\n",
            "|NULL|   Unknown| 30|         3|    76|\n",
            "|  FF|   Unknown| 44|         3|    73|\n",
            "|  KK|        D4| 30|         2|    80|\n",
            "+----+----------+---+----------+------+\n",
            "\n"
          ]
        }
      ],
      "source": [
        "#filter based on operations ==,<,.. |, &, ~\n",
        "df_imputed[df_imputed['Age']>=30].show()\n",
        "# df_imputed.filter(df_imputed['Age']>=30).show()\n",
        "# df_imputed.filter(df_imputed.Age>=30).show()\n"
      ]
    },
    {
      "cell_type": "code",
      "execution_count": 30,
      "metadata": {
        "colab": {
          "base_uri": "https://localhost:8080/"
        },
        "id": "VL3KFLmjsGja",
        "outputId": "ee90c843-420f-488b-f16c-c30d98e5051b"
      },
      "outputs": [
        {
          "name": "stdout",
          "output_type": "stream",
          "text": [
            "+----+----------+---+----------+------+\n",
            "|Name|Department|Age|experience|salary|\n",
            "+----+----------+---+----------+------+\n",
            "+----+----------+---+----------+------+\n",
            "\n"
          ]
        }
      ],
      "source": [
        "df_imputed[(df_imputed['Age']>=30) & (df_imputed['experience']==6)].show()\n"
      ]
    },
    {
      "cell_type": "code",
      "execution_count": null,
      "metadata": {
        "id": "1STgVcvMtBJQ"
      },
      "outputs": [],
      "source": []
    },
    {
      "cell_type": "markdown",
      "metadata": {
        "id": "veNdVmSQtNdT"
      },
      "source": [
        "**Groupby and aggregate**"
      ]
    },
    {
      "cell_type": "code",
      "execution_count": 31,
      "metadata": {
        "colab": {
          "base_uri": "https://localhost:8080/"
        },
        "id": "_cyFjhhztZAN",
        "outputId": "8ae80d2b-0fe0-4ee1-9764-f8ea3ac4a7b2"
      },
      "outputs": [
        {
          "name": "stdout",
          "output_type": "stream",
          "text": [
            "+----+----------+---+----------+------+\n",
            "|Name|Department|Age|experience|salary|\n",
            "+----+----------+---+----------+------+\n",
            "|  AA|        D1| 25|         1|    70|\n",
            "|  BB|        D1| 30|         3|   100|\n",
            "|  CC|        D2| 35|         4|   110|\n",
            "|  DD|        D3| 22|         1|    60|\n",
            "|  EE|        D2| 30|         3|    75|\n",
            "|NULL|   Unknown| 30|         3|    76|\n",
            "|  FF|   Unknown| 44|         3|    73|\n",
            "|  ZZ|        D3| 23|         2|    46|\n",
            "|  KK|        D4| 30|         2|    80|\n",
            "+----+----------+---+----------+------+\n",
            "\n"
          ]
        }
      ],
      "source": [
        "df_imputed.show()"
      ]
    },
    {
      "cell_type": "code",
      "execution_count": 32,
      "metadata": {
        "colab": {
          "base_uri": "https://localhost:8080/"
        },
        "id": "QcLaTCfet3Hd",
        "outputId": "c124b91b-e5a0-47b5-9710-3597efc03ff7"
      },
      "outputs": [
        {
          "name": "stdout",
          "output_type": "stream",
          "text": [
            "+----+----------+---+----------+------+\n",
            "|Name|Department|Age|experience|salary|\n",
            "+----+----------+---+----------+------+\n",
            "|  AA|        D1| 25|         1|    70|\n",
            "|  BB|        D1| 30|         3|   100|\n",
            "|  CC|        D2| 35|         4|   110|\n",
            "|  DD|        D3| 22|         1|    60|\n",
            "|  EE|        D2| 30|         3|    75|\n",
            "|NULL|   Unknown| 30|         3|    76|\n",
            "|  FF|   Unknown| 44|         3|    73|\n",
            "|  ZZ|        D3| 23|         2|    46|\n",
            "|  KK|        D4| 30|         2|    80|\n",
            "+----+----------+---+----------+------+\n",
            "\n"
          ]
        }
      ],
      "source": [
        "df_imputed.show()"
      ]
    },
    {
      "cell_type": "code",
      "execution_count": 33,
      "metadata": {
        "colab": {
          "base_uri": "https://localhost:8080/"
        },
        "id": "LZtCLIjMtR9z",
        "outputId": "7f8b8681-6183-42f4-b924-fe56b0462f26"
      },
      "outputs": [
        {
          "name": "stdout",
          "output_type": "stream",
          "text": [
            "+----------+-----------+\n",
            "|Department|avg(Salary)|\n",
            "+----------+-----------+\n",
            "|        D1|       85.0|\n",
            "|        D3|       53.0|\n",
            "|   Unknown|       74.5|\n",
            "|        D2|       92.5|\n",
            "|        D4|       80.0|\n",
            "+----------+-----------+\n",
            "\n"
          ]
        }
      ],
      "source": [
        "#groupby\n",
        "df_imputed.groupBy('Department').mean('Salary').show()   # alternatives sum,max,min,count"
      ]
    },
    {
      "cell_type": "code",
      "execution_count": 34,
      "metadata": {
        "colab": {
          "base_uri": "https://localhost:8080/"
        },
        "id": "uCDfVjscvQ2c",
        "outputId": "b2b3da8b-ed42-4fce-85d8-71b3bfa45f6b"
      },
      "outputs": [
        {
          "name": "stdout",
          "output_type": "stream",
          "text": [
            "+----------+--------+\n",
            "|Department|min(Age)|\n",
            "+----------+--------+\n",
            "|        D1|      25|\n",
            "|        D3|      22|\n",
            "|   Unknown|      30|\n",
            "|        D2|      30|\n",
            "|        D4|      30|\n",
            "+----------+--------+\n",
            "\n"
          ]
        }
      ],
      "source": [
        "df_imputed.groupBy('Department').min('Age').show()   # alternatives sum,max,min,count"
      ]
    },
    {
      "cell_type": "code",
      "execution_count": 35,
      "metadata": {
        "colab": {
          "base_uri": "https://localhost:8080/"
        },
        "id": "y0ciUMYLtp_x",
        "outputId": "66a06f6b-57f1-48d0-e2de-027fb179a0cf"
      },
      "outputs": [
        {
          "name": "stdout",
          "output_type": "stream",
          "text": [
            "+----------+-----------+---------------+--------+\n",
            "|Department|sum(salary)|max(experience)|avg(Age)|\n",
            "+----------+-----------+---------------+--------+\n",
            "|        D1|        170|              3|    27.5|\n",
            "|        D3|        106|              2|    22.5|\n",
            "|   Unknown|        149|              3|    37.0|\n",
            "|        D2|        185|              4|    32.5|\n",
            "|        D4|         80|              2|    30.0|\n",
            "+----------+-----------+---------------+--------+\n",
            "\n"
          ]
        }
      ],
      "source": [
        "#Aggregate\n",
        "df_imputed.groupBy('Department').agg({'Age':'mean',\n",
        "                                      'salary':'sum',\n",
        "                                      'experience':'max'}).show()"
      ]
    },
    {
      "cell_type": "code",
      "execution_count": 36,
      "metadata": {
        "colab": {
          "base_uri": "https://localhost:8080/"
        },
        "id": "yRLrzPeIuMmF",
        "outputId": "efaf98b7-0455-41b5-fd9b-c011e1a5fa6a"
      },
      "outputs": [
        {
          "name": "stdout",
          "output_type": "stream",
          "text": [
            "+-----------+\n",
            "|sum(salary)|\n",
            "+-----------+\n",
            "|        690|\n",
            "+-----------+\n",
            "\n"
          ]
        }
      ],
      "source": [
        "# returns sum of salary for all\n",
        "\n",
        "df_imputed.agg({'salary':'sum'}).show()"
      ]
    },
    {
      "cell_type": "code",
      "execution_count": null,
      "metadata": {
        "id": "lg_KMIyAuZ39"
      },
      "outputs": [],
      "source": []
    }
  ],
  "metadata": {
    "colab": {
      "provenance": []
    },
    "kernelspec": {
      "display_name": "base",
      "language": "python",
      "name": "python3"
    },
    "language_info": {
      "codemirror_mode": {
        "name": "ipython",
        "version": 3
      },
      "file_extension": ".py",
      "mimetype": "text/x-python",
      "name": "python",
      "nbconvert_exporter": "python",
      "pygments_lexer": "ipython3",
      "version": "3.13.2"
    }
  },
  "nbformat": 4,
  "nbformat_minor": 0
}
