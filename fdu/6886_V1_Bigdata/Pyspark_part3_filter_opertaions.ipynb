{
  "nbformat": 4,
  "nbformat_minor": 0,
  "metadata": {
    "colab": {
      "provenance": []
    },
    "kernelspec": {
      "name": "python3",
      "display_name": "Python 3"
    },
    "language_info": {
      "name": "python"
    }
  },
  "cells": [
    {
      "cell_type": "code",
      "execution_count": null,
      "metadata": {
        "id": "BRu3FVsqqJUW"
      },
      "outputs": [],
      "source": [
        "import pyspark"
      ]
    },
    {
      "cell_type": "code",
      "source": [
        "#Create pyspark session\n",
        "from pyspark.sql import SparkSession\n",
        "spark=SparkSession.builder.appName(\"filter operations\").getOrCreate()\n",
        "spark"
      ],
      "metadata": {
        "colab": {
          "base_uri": "https://localhost:8080/",
          "height": 219
        },
        "id": "Qz0Wio2TqVu2",
        "outputId": "4a556870-5405-4874-a9df-ec9b5aa919f7"
      },
      "execution_count": null,
      "outputs": [
        {
          "output_type": "execute_result",
          "data": {
            "text/plain": [
              "<pyspark.sql.session.SparkSession at 0x7cdf98e40910>"
            ],
            "text/html": [
              "\n",
              "            <div>\n",
              "                <p><b>SparkSession - in-memory</b></p>\n",
              "                \n",
              "        <div>\n",
              "            <p><b>SparkContext</b></p>\n",
              "\n",
              "            <p><a href=\"http://7f5c45059317:4040\">Spark UI</a></p>\n",
              "\n",
              "            <dl>\n",
              "              <dt>Version</dt>\n",
              "                <dd><code>v3.5.3</code></dd>\n",
              "              <dt>Master</dt>\n",
              "                <dd><code>local[*]</code></dd>\n",
              "              <dt>AppName</dt>\n",
              "                <dd><code>filter operations</code></dd>\n",
              "            </dl>\n",
              "        </div>\n",
              "        \n",
              "            </div>\n",
              "        "
            ]
          },
          "metadata": {},
          "execution_count": 2
        }
      ]
    },
    {
      "cell_type": "code",
      "source": [
        "#Read data\n",
        "spark_df=spark.read.csv('test_file.csv',header=True,enforceSchema=True)\n",
        "spark_df.show()"
      ],
      "metadata": {
        "colab": {
          "base_uri": "https://localhost:8080/"
        },
        "id": "ShC6FaeTqaPN",
        "outputId": "1b9918b2-bfdf-4894-ee44-0eac6f6983b6"
      },
      "execution_count": null,
      "outputs": [
        {
          "output_type": "stream",
          "name": "stdout",
          "text": [
            "+----+----------+----+----------+------+\n",
            "|Name|Department| Age|experience|salary|\n",
            "+----+----------+----+----------+------+\n",
            "|  AA|        D1|  30|         2|   100|\n",
            "|  BB|        D1|  35|         1|   125|\n",
            "|  CC|        D3|  25|         3|   100|\n",
            "|  DD|        D2|  20|      NULL|    60|\n",
            "|NULL|      NULL|NULL|      NULL|  NULL|\n",
            "|  EE|      NULL|  29|         4|    95|\n",
            "|  FF|        D2|  22|         4|    90|\n",
            "|  GG|        D7|NULL|         1|    82|\n",
            "|  HH|        D2|  38|         6|   115|\n",
            "|  FF|        D3|  30|         6|   115|\n",
            "+----+----------+----+----------+------+\n",
            "\n"
          ]
        }
      ]
    },
    {
      "cell_type": "code",
      "source": [
        "#Cast Columns to the Correct Data Types:\n",
        "\n",
        "from pyspark.sql.types import IntegerType, DoubleType\n",
        "\n",
        "cols=[\"Age\",\"experience\",\"salary\"]\n",
        "\n",
        "for col in cols:\n",
        "  spark_df = spark_df.withColumn(col, spark_df[col].cast(IntegerType()))\n",
        "spark_df.printSchema()"
      ],
      "metadata": {
        "colab": {
          "base_uri": "https://localhost:8080/"
        },
        "id": "lG-0KNy3qcqO",
        "outputId": "f964bf42-6e30-4ab3-a2d1-0724f17ad691"
      },
      "execution_count": null,
      "outputs": [
        {
          "output_type": "stream",
          "name": "stdout",
          "text": [
            "root\n",
            " |-- Name: string (nullable = true)\n",
            " |-- Department: string (nullable = true)\n",
            " |-- Age: integer (nullable = true)\n",
            " |-- experience: integer (nullable = true)\n",
            " |-- salary: integer (nullable = true)\n",
            "\n"
          ]
        }
      ]
    },
    {
      "cell_type": "code",
      "source": [
        "spark_df.show()"
      ],
      "metadata": {
        "colab": {
          "base_uri": "https://localhost:8080/"
        },
        "id": "mXoQ_2SFrq5G",
        "outputId": "85a325da-b945-4e0d-f31a-d001e7e1ddfa"
      },
      "execution_count": null,
      "outputs": [
        {
          "output_type": "stream",
          "name": "stdout",
          "text": [
            "+----+----------+----+----------+------+\n",
            "|Name|Department| Age|experience|salary|\n",
            "+----+----------+----+----------+------+\n",
            "|  AA|        D1|  30|         2|   100|\n",
            "|  BB|        D1|  35|         1|   125|\n",
            "|  CC|        D3|  25|         3|   100|\n",
            "|  DD|        D2|  20|      NULL|    60|\n",
            "|NULL|      NULL|NULL|      NULL|  NULL|\n",
            "|  EE|      NULL|  29|         4|    95|\n",
            "|  FF|        D2|  22|         4|    90|\n",
            "|  GG|        D7|NULL|         1|    82|\n",
            "|  HH|        D2|  38|         6|   115|\n",
            "|  FF|        D3|  30|         6|   115|\n",
            "+----+----------+----+----------+------+\n",
            "\n"
          ]
        }
      ]
    },
    {
      "cell_type": "code",
      "source": [
        "#fillimg with stats using imputer\n",
        "from pyspark.ml.feature import Imputer\n",
        "\n",
        "imputer=Imputer(inputCols=['Age'],outputCols=['Age']).setStrategy('mean')     #or mode, median\n",
        "df_imputed=imputer.fit(spark_df).transform(spark_df)\n",
        "df_imputed.show()"
      ],
      "metadata": {
        "colab": {
          "base_uri": "https://localhost:8080/"
        },
        "id": "bvzAkHKJqgr4",
        "outputId": "c173e771-edc6-4519-fdf0-58febe75d27f"
      },
      "execution_count": null,
      "outputs": [
        {
          "output_type": "stream",
          "name": "stdout",
          "text": [
            "+----+----------+---+----------+------+\n",
            "|Name|Department|Age|experience|salary|\n",
            "+----+----------+---+----------+------+\n",
            "|  AA|        D1| 30|         2|   100|\n",
            "|  BB|        D1| 35|         1|   125|\n",
            "|  CC|        D3| 25|         3|   100|\n",
            "|  DD|        D2| 20|      NULL|    60|\n",
            "|NULL|      NULL| 28|      NULL|  NULL|\n",
            "|  EE|      NULL| 29|         4|    95|\n",
            "|  FF|        D2| 22|         4|    90|\n",
            "|  GG|        D7| 28|         1|    82|\n",
            "|  HH|        D2| 38|         6|   115|\n",
            "|  FF|        D3| 30|         6|   115|\n",
            "+----+----------+---+----------+------+\n",
            "\n"
          ]
        }
      ]
    },
    {
      "cell_type": "code",
      "source": [
        "imputer=Imputer(inputCols=['salary'],outputCols=['salary']).setStrategy('mean')     #or mode, median\n",
        "df_imputed=imputer.fit(df_imputed).transform(df_imputed)\n",
        "df_imputed.show()"
      ],
      "metadata": {
        "colab": {
          "base_uri": "https://localhost:8080/"
        },
        "id": "UByKPTEXtPYv",
        "outputId": "f3750507-573d-4516-a0cd-d8ca6a0da036"
      },
      "execution_count": null,
      "outputs": [
        {
          "output_type": "stream",
          "name": "stdout",
          "text": [
            "+----+----------+---+----------+------+\n",
            "|Name|Department|Age|experience|salary|\n",
            "+----+----------+---+----------+------+\n",
            "|  AA|        D1| 30|         2|   100|\n",
            "|  BB|        D1| 35|         1|   125|\n",
            "|  CC|        D3| 25|         3|   100|\n",
            "|  DD|        D2| 20|      NULL|    60|\n",
            "|NULL|      NULL| 28|      NULL|    98|\n",
            "|  EE|      NULL| 29|         4|    95|\n",
            "|  FF|        D2| 22|         4|    90|\n",
            "|  GG|        D7| 28|         1|    82|\n",
            "|  HH|        D2| 38|         6|   115|\n",
            "|  FF|        D3| 30|         6|   115|\n",
            "+----+----------+---+----------+------+\n",
            "\n"
          ]
        }
      ]
    },
    {
      "cell_type": "code",
      "source": [
        "imputer=Imputer(inputCols=['experience'],outputCols=['experience']).setStrategy('mode')     #or mode, median\n",
        "df_imputed=imputer.fit(df_imputed).transform(df_imputed)\n",
        "df_imputed.show()"
      ],
      "metadata": {
        "colab": {
          "base_uri": "https://localhost:8080/"
        },
        "id": "knSw26cotoMi",
        "outputId": "d9565c5d-e52c-491a-f66d-2e5e98af6a45"
      },
      "execution_count": null,
      "outputs": [
        {
          "output_type": "stream",
          "name": "stdout",
          "text": [
            "+----+----------+---+----------+------+\n",
            "|Name|Department|Age|experience|salary|\n",
            "+----+----------+---+----------+------+\n",
            "|  AA|        D1| 30|         2|   100|\n",
            "|  BB|        D1| 35|         1|   125|\n",
            "|  CC|        D3| 25|         3|   100|\n",
            "|  DD|        D2| 20|         1|    60|\n",
            "|NULL|      NULL| 28|         1|    98|\n",
            "|  EE|      NULL| 29|         4|    95|\n",
            "|  FF|        D2| 22|         4|    90|\n",
            "|  GG|        D7| 28|         1|    82|\n",
            "|  HH|        D2| 38|         6|   115|\n",
            "|  FF|        D3| 30|         6|   115|\n",
            "+----+----------+---+----------+------+\n",
            "\n"
          ]
        }
      ]
    },
    {
      "cell_type": "code",
      "source": [
        "mode_value = df_imputed.groupBy(\"Department\").count().orderBy(\"count\", ascending=False).first()[0]\n",
        "df_imputed = df_imputed.fillna({'Department': mode_value})\n",
        "df_imputed.show()"
      ],
      "metadata": {
        "colab": {
          "base_uri": "https://localhost:8080/"
        },
        "id": "JRLvEEg1spg_",
        "outputId": "4981be80-42e7-4c08-cbb8-fe15c66d4389"
      },
      "execution_count": null,
      "outputs": [
        {
          "output_type": "stream",
          "name": "stdout",
          "text": [
            "+----+----------+---+----------+------+\n",
            "|Name|Department|Age|experience|salary|\n",
            "+----+----------+---+----------+------+\n",
            "|  AA|        D1| 30|         2|   100|\n",
            "|  BB|        D1| 35|         1|   125|\n",
            "|  CC|        D3| 25|         3|   100|\n",
            "|  DD|        D2| 20|         1|    60|\n",
            "|NULL|        D2| 28|         1|    98|\n",
            "|  EE|        D2| 29|         4|    95|\n",
            "|  FF|        D2| 22|         4|    90|\n",
            "|  GG|        D7| 28|         1|    82|\n",
            "|  HH|        D2| 38|         6|   115|\n",
            "|  FF|        D3| 30|         6|   115|\n",
            "+----+----------+---+----------+------+\n",
            "\n"
          ]
        }
      ]
    },
    {
      "cell_type": "markdown",
      "source": [
        "**Filtering based on operators**"
      ],
      "metadata": {
        "id": "SRFM_NcHtIVa"
      }
    },
    {
      "cell_type": "code",
      "source": [
        "#filter based on operations ==,<,.. |, &, ~\n",
        "df_imputed[df_imputed['Age']>=30].show()\n",
        "# df_imputed.filter(df_imputed['Age']>=30).show()\n",
        "# df_imputed.filter(df_imputed.Age>=30).show()\n"
      ],
      "metadata": {
        "colab": {
          "base_uri": "https://localhost:8080/"
        },
        "id": "BIJnYMb9rEoy",
        "outputId": "c4ffb7d7-96d6-4f94-faf8-ff9a1c62cfde"
      },
      "execution_count": null,
      "outputs": [
        {
          "output_type": "stream",
          "name": "stdout",
          "text": [
            "+----+----------+---+----------+------+\n",
            "|Name|Department|Age|experience|salary|\n",
            "+----+----------+---+----------+------+\n",
            "|  AA|        D1| 30|         2|   100|\n",
            "|  BB|        D1| 35|         1|   125|\n",
            "|  HH|        D2| 38|         6|   115|\n",
            "|  FF|        D3| 30|         6|   115|\n",
            "+----+----------+---+----------+------+\n",
            "\n"
          ]
        }
      ]
    },
    {
      "cell_type": "code",
      "source": [
        "df_imputed[(df_imputed['Age']>=30) & (df_imputed['experience']==6)].show()\n"
      ],
      "metadata": {
        "colab": {
          "base_uri": "https://localhost:8080/"
        },
        "id": "VL3KFLmjsGja",
        "outputId": "ee90c843-420f-488b-f16c-c30d98e5051b"
      },
      "execution_count": null,
      "outputs": [
        {
          "output_type": "stream",
          "name": "stdout",
          "text": [
            "+----+----------+---+----------+------+\n",
            "|Name|Department|Age|experience|salary|\n",
            "+----+----------+---+----------+------+\n",
            "|  HH|        D2| 38|         6|   115|\n",
            "|  FF|        D3| 30|         6|   115|\n",
            "+----+----------+---+----------+------+\n",
            "\n"
          ]
        }
      ]
    },
    {
      "cell_type": "code",
      "source": [],
      "metadata": {
        "id": "1STgVcvMtBJQ"
      },
      "execution_count": null,
      "outputs": []
    },
    {
      "cell_type": "markdown",
      "source": [
        "**Groupby and aggregate**"
      ],
      "metadata": {
        "id": "veNdVmSQtNdT"
      }
    },
    {
      "cell_type": "code",
      "source": [
        "df_imputed.show()"
      ],
      "metadata": {
        "colab": {
          "base_uri": "https://localhost:8080/"
        },
        "id": "_cyFjhhztZAN",
        "outputId": "8ae80d2b-0fe0-4ee1-9764-f8ea3ac4a7b2"
      },
      "execution_count": null,
      "outputs": [
        {
          "output_type": "stream",
          "name": "stdout",
          "text": [
            "+----+----------+---+----------+------+\n",
            "|Name|Department|Age|experience|salary|\n",
            "+----+----------+---+----------+------+\n",
            "|  AA|        D1| 25|         1|    70|\n",
            "|  BB|        D1| 30|         3|   100|\n",
            "|  CC|        D2| 35|         4|   110|\n",
            "|  DD|        D3| 22|         1|    60|\n",
            "|  EE|        D2| 29|         3|    75|\n",
            "|  FF|        D1| 44|         3|    73|\n",
            "|  ZZ|        D3| 23|         2|    46|\n",
            "|  KK|        D4| 29|         2|    80|\n",
            "+----+----------+---+----------+------+\n",
            "\n"
          ]
        }
      ]
    },
    {
      "cell_type": "code",
      "source": [
        "df_imputed.show()"
      ],
      "metadata": {
        "colab": {
          "base_uri": "https://localhost:8080/"
        },
        "id": "QcLaTCfet3Hd",
        "outputId": "c124b91b-e5a0-47b5-9710-3597efc03ff7"
      },
      "execution_count": null,
      "outputs": [
        {
          "output_type": "stream",
          "name": "stdout",
          "text": [
            "+----+----------+---+----------+------+\n",
            "|Name|Department|Age|experience|salary|\n",
            "+----+----------+---+----------+------+\n",
            "|  AA|        D1| 30|         2|   100|\n",
            "|  BB|        D1| 35|         1|   125|\n",
            "|  CC|        D3| 25|         3|   100|\n",
            "|  DD|        D2| 20|         1|    60|\n",
            "|NULL|        D2| 28|         1|    98|\n",
            "|  EE|        D2| 29|         4|    95|\n",
            "|  FF|        D2| 22|         4|    90|\n",
            "|  GG|        D7| 28|         1|    82|\n",
            "|  HH|        D2| 38|         6|   115|\n",
            "|  FF|        D3| 30|         6|   115|\n",
            "+----+----------+---+----------+------+\n",
            "\n"
          ]
        }
      ]
    },
    {
      "cell_type": "code",
      "source": [
        "#groupby\n",
        "df_imputed.groupBy('Department').mean('Salary').show()   # alternatives sum,max,min,count"
      ],
      "metadata": {
        "colab": {
          "base_uri": "https://localhost:8080/"
        },
        "id": "LZtCLIjMtR9z",
        "outputId": "7f8b8681-6183-42f4-b924-fe56b0462f26"
      },
      "execution_count": null,
      "outputs": [
        {
          "output_type": "stream",
          "name": "stdout",
          "text": [
            "+----------+-----------+\n",
            "|Department|avg(Salary)|\n",
            "+----------+-----------+\n",
            "|        D7|       82.0|\n",
            "|        D1|      112.5|\n",
            "|        D3|      107.5|\n",
            "|        D2|       91.6|\n",
            "+----------+-----------+\n",
            "\n"
          ]
        }
      ]
    },
    {
      "cell_type": "code",
      "source": [
        "df_imputed.groupBy('Department').min('Age').show()   # alternatives sum,max,min,count"
      ],
      "metadata": {
        "id": "uCDfVjscvQ2c",
        "outputId": "b2b3da8b-ed42-4fce-85d8-71b3bfa45f6b",
        "colab": {
          "base_uri": "https://localhost:8080/"
        }
      },
      "execution_count": null,
      "outputs": [
        {
          "output_type": "stream",
          "name": "stdout",
          "text": [
            "+----------+--------+\n",
            "|Department|min(Age)|\n",
            "+----------+--------+\n",
            "|        D7|      28|\n",
            "|        D1|      30|\n",
            "|        D3|      25|\n",
            "|        D2|      20|\n",
            "+----------+--------+\n",
            "\n"
          ]
        }
      ]
    },
    {
      "cell_type": "code",
      "source": [
        "#Aggregate\n",
        "df_imputed.groupBy('Department').agg({'Age':'mean',\n",
        "                                      'salary':'sum',\n",
        "                                      'experience':'max'}).show()"
      ],
      "metadata": {
        "colab": {
          "base_uri": "https://localhost:8080/"
        },
        "id": "y0ciUMYLtp_x",
        "outputId": "66a06f6b-57f1-48d0-e2de-027fb179a0cf"
      },
      "execution_count": null,
      "outputs": [
        {
          "output_type": "stream",
          "name": "stdout",
          "text": [
            "+----------+-----------+---------------+--------+\n",
            "|Department|sum(salary)|max(experience)|avg(Age)|\n",
            "+----------+-----------+---------------+--------+\n",
            "|        D1|        243|              3|    33.0|\n",
            "|        D3|        106|              2|    22.5|\n",
            "|        D2|        185|              4|    32.0|\n",
            "|        D4|         80|              2|    29.0|\n",
            "+----------+-----------+---------------+--------+\n",
            "\n"
          ]
        }
      ]
    },
    {
      "cell_type": "code",
      "source": [
        "# returns sum of salary for all\n",
        "\n",
        "df_imputed.agg({'salary':'sum'}).show()"
      ],
      "metadata": {
        "colab": {
          "base_uri": "https://localhost:8080/"
        },
        "id": "yRLrzPeIuMmF",
        "outputId": "efaf98b7-0455-41b5-fd9b-c011e1a5fa6a"
      },
      "execution_count": null,
      "outputs": [
        {
          "output_type": "stream",
          "name": "stdout",
          "text": [
            "+-----------+\n",
            "|sum(salary)|\n",
            "+-----------+\n",
            "|        614|\n",
            "+-----------+\n",
            "\n"
          ]
        }
      ]
    },
    {
      "cell_type": "code",
      "source": [],
      "metadata": {
        "id": "lg_KMIyAuZ39"
      },
      "execution_count": null,
      "outputs": []
    }
  ]
}