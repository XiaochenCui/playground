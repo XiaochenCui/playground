{
  "cells": [
    {
      "cell_type": "code",
      "execution_count": 1,
      "metadata": {
        "id": "916nCTAyN7l8"
      },
      "outputs": [],
      "source": [
        "import pyspark"
      ]
    },
    {
      "cell_type": "code",
      "execution_count": 2,
      "metadata": {
        "colab": {
          "base_uri": "https://localhost:8080/",
          "height": 219
        },
        "id": "lmb5ETSZQeVQ",
        "outputId": "c4e2e504-e274-430f-dc50-beb76c5363c9"
      },
      "outputs": [
        {
          "name": "stderr",
          "output_type": "stream",
          "text": [
            "WARNING: Using incubator modules: jdk.incubator.vector\n",
            "Using Spark's default log4j profile: org/apache/spark/log4j2-defaults.properties\n",
            "25/06/20 20:38:05 WARN Utils: Your hostname, xiaochen-MS-7C56, resolves to a loopback address: 127.0.1.1; using 192.168.0.160 instead (on interface enp42s0)\n",
            "25/06/20 20:38:05 WARN Utils: Set SPARK_LOCAL_IP if you need to bind to another address\n",
            "Using Spark's default log4j profile: org/apache/spark/log4j2-defaults.properties\n",
            "Setting default log level to \"WARN\".\n",
            "To adjust logging level use sc.setLogLevel(newLevel). For SparkR, use setLogLevel(newLevel).\n",
            "25/06/20 20:38:05 WARN NativeCodeLoader: Unable to load native-hadoop library for your platform... using builtin-java classes where applicable\n",
            "25/06/20 20:38:05 WARN Utils: Service 'SparkUI' could not bind on port 4040. Attempting port 4041.\n",
            "25/06/20 20:38:05 WARN Utils: Service 'SparkUI' could not bind on port 4041. Attempting port 4042.\n"
          ]
        },
        {
          "data": {
            "text/html": [
              "\n",
              "            <div>\n",
              "                <p><b>SparkSession - in-memory</b></p>\n",
              "                \n",
              "        <div>\n",
              "            <p><b>SparkContext</b></p>\n",
              "\n",
              "            <p><a href=\"http://192.168.0.160:4042\">Spark UI</a></p>\n",
              "\n",
              "            <dl>\n",
              "              <dt>Version</dt>\n",
              "                <dd><code>v4.0.0</code></dd>\n",
              "              <dt>Master</dt>\n",
              "                <dd><code>local[*]</code></dd>\n",
              "              <dt>AppName</dt>\n",
              "                <dd><code>Practice</code></dd>\n",
              "            </dl>\n",
              "        </div>\n",
              "        \n",
              "            </div>\n",
              "        "
            ],
            "text/plain": [
              "<pyspark.sql.session.SparkSession at 0x7eb26b546270>"
            ]
          },
          "execution_count": 2,
          "metadata": {},
          "output_type": "execute_result"
        }
      ],
      "source": [
        "#create spark session\n",
        "from pyspark.sql import SparkSession\n",
        "spark=SparkSession.builder.appName(\"Practice\").getOrCreate()\n",
        "spark"
      ]
    },
    {
      "cell_type": "code",
      "execution_count": 3,
      "metadata": {
        "colab": {
          "base_uri": "https://localhost:8080/"
        },
        "id": "LR5fqwyPQgpQ",
        "outputId": "e522a228-add9-42f3-807e-305d6c588b76"
      },
      "outputs": [
        {
          "name": "stdout",
          "output_type": "stream",
          "text": [
            "+----+----------+----+----------+------+\n",
            "|Name|Department| Age|experience|salary|\n",
            "+----+----------+----+----------+------+\n",
            "|  AA|        D1|  25|         1|    70|\n",
            "|  BB|        D1|  30|         3|   100|\n",
            "|  CC|        D2|  35|         4|   110|\n",
            "|  DD|        D3|  22|         1|    60|\n",
            "|  EE|        D2|NULL|         3|    75|\n",
            "|NULL|      NULL|NULL|      NULL|  NULL|\n",
            "|  FF|      NULL|  44|         3|    73|\n",
            "|  ZZ|        D3|  23|         2|    46|\n",
            "|  KK|        D4|NULL|         2|    80|\n",
            "+----+----------+----+----------+------+\n",
            "\n"
          ]
        }
      ],
      "source": [
        "# read data\n",
        "spark_df=spark.read.csv('test_file.csv',header=True,enforceSchema=True)\n",
        "spark_df.show()"
      ]
    },
    {
      "cell_type": "markdown",
      "metadata": {
        "id": "WPx4KgDWS4mj"
      },
      "source": []
    },
    {
      "cell_type": "code",
      "execution_count": 4,
      "metadata": {
        "colab": {
          "base_uri": "https://localhost:8080/"
        },
        "id": "HRRIlTp8Qjkf",
        "outputId": "666137b1-afe0-4267-d723-ece247892495"
      },
      "outputs": [
        {
          "data": {
            "text/plain": [
              "['Name', 'Department', 'Age', 'experience', 'salary']"
            ]
          },
          "execution_count": 4,
          "metadata": {},
          "output_type": "execute_result"
        }
      ],
      "source": [
        "#list of columns\n",
        "spark_df.columns"
      ]
    },
    {
      "cell_type": "code",
      "execution_count": 5,
      "metadata": {
        "colab": {
          "base_uri": "https://localhost:8080/"
        },
        "id": "XzVSgkUPQj2_",
        "outputId": "168eb65c-bfee-4e40-f7f5-22e020a32465"
      },
      "outputs": [
        {
          "name": "stdout",
          "output_type": "stream",
          "text": [
            "root\n",
            " |-- Name: string (nullable = true)\n",
            " |-- Department: string (nullable = true)\n",
            " |-- Age: string (nullable = true)\n",
            " |-- experience: string (nullable = true)\n",
            " |-- salary: string (nullable = true)\n",
            "\n"
          ]
        }
      ],
      "source": [
        "spark_df.printSchema()"
      ]
    },
    {
      "cell_type": "code",
      "execution_count": 6,
      "metadata": {
        "colab": {
          "base_uri": "https://localhost:8080/"
        },
        "id": "HhQnJ9R5QkJn",
        "outputId": "9008085d-34ab-4ad9-adbb-40be48184e12"
      },
      "outputs": [
        {
          "name": "stdout",
          "output_type": "stream",
          "text": [
            "root\n",
            " |-- Name: string (nullable = true)\n",
            " |-- Department: string (nullable = true)\n",
            " |-- Age: integer (nullable = true)\n",
            " |-- experience: integer (nullable = true)\n",
            " |-- salary: integer (nullable = true)\n",
            "\n"
          ]
        }
      ],
      "source": [
        "#Cast Columns to the Correct Data Types:\n",
        "\n",
        "from pyspark.sql.types import IntegerType\n",
        "\n",
        "cols=[\"Age\",\"experience\",\"salary\"]\n",
        "for col in cols:\n",
        "  spark_df = spark_df.withColumn(col, spark_df[col].cast(IntegerType()))\n",
        "spark_df.printSchema()"
      ]
    },
    {
      "cell_type": "code",
      "execution_count": 7,
      "metadata": {
        "colab": {
          "base_uri": "https://localhost:8080/"
        },
        "id": "rxey6wj5Qkd_",
        "outputId": "0e593943-f900-417f-9f53-6e81a540776e"
      },
      "outputs": [
        {
          "name": "stdout",
          "output_type": "stream",
          "text": [
            "+----+----------+----+----------+------+\n",
            "|Name|Department| Age|experience|salary|\n",
            "+----+----------+----+----------+------+\n",
            "|  AA|        D1|  25|         1|    70|\n",
            "|  BB|        D1|  30|         3|   100|\n",
            "|  CC|        D2|  35|         4|   110|\n",
            "|  DD|        D3|  22|         1|    60|\n",
            "|  EE|        D2|NULL|         3|    75|\n",
            "|NULL|      NULL|NULL|      NULL|  NULL|\n",
            "|  FF|      NULL|  44|         3|    73|\n",
            "|  ZZ|        D3|  23|         2|    46|\n",
            "|  KK|        D4|NULL|         2|    80|\n",
            "+----+----------+----+----------+------+\n",
            "\n"
          ]
        }
      ],
      "source": [
        "spark_df.show()"
      ]
    },
    {
      "cell_type": "code",
      "execution_count": null,
      "metadata": {
        "id": "g-aZ-FJ1QktX"
      },
      "outputs": [],
      "source": []
    },
    {
      "cell_type": "code",
      "execution_count": 8,
      "metadata": {
        "colab": {
          "base_uri": "https://localhost:8080/"
        },
        "id": "NnTdkzI-rqlM",
        "outputId": "8faf68fe-33cf-4bdc-e64f-bc475d330040"
      },
      "outputs": [
        {
          "name": "stdout",
          "output_type": "stream",
          "text": [
            "+----+----------+----+\n",
            "|Name|Department| Age|\n",
            "+----+----------+----+\n",
            "|  AA|        D1|  25|\n",
            "|  BB|        D1|  30|\n",
            "|  CC|        D2|  35|\n",
            "|  DD|        D3|  22|\n",
            "|  EE|        D2|NULL|\n",
            "|NULL|      NULL|NULL|\n",
            "|  FF|      NULL|  44|\n",
            "|  ZZ|        D3|  23|\n",
            "|  KK|        D4|NULL|\n",
            "+----+----------+----+\n",
            "\n"
          ]
        }
      ],
      "source": [
        "#select columns\n",
        "sub_df=spark_df.select(['Name','Department', 'Age'])\n",
        "sub_df.show()\n"
      ]
    },
    {
      "cell_type": "code",
      "execution_count": 9,
      "metadata": {
        "colab": {
          "base_uri": "https://localhost:8080/"
        },
        "id": "fdfgteUhWkJJ",
        "outputId": "f7d167a6-e22d-4e50-bf82-74126d5ae033"
      },
      "outputs": [
        {
          "name": "stdout",
          "output_type": "stream",
          "text": [
            "9 5\n"
          ]
        }
      ],
      "source": [
        "#Check the size of data\n",
        "\n",
        "print(spark_df.count(),len(spark_df.columns))"
      ]
    },
    {
      "cell_type": "code",
      "execution_count": 10,
      "metadata": {
        "colab": {
          "base_uri": "https://localhost:8080/"
        },
        "id": "EHKIi2frWx-0",
        "outputId": "3d9b748a-815a-4089-871b-9dbaccbe01d7"
      },
      "outputs": [
        {
          "data": {
            "text/plain": [
              "[('Name', 'string'),\n",
              " ('Department', 'string'),\n",
              " ('Age', 'int'),\n",
              " ('experience', 'int'),\n",
              " ('salary', 'int')]"
            ]
          },
          "execution_count": 10,
          "metadata": {},
          "output_type": "execute_result"
        }
      ],
      "source": [
        "#check data types\n",
        "spark_df.dtypes"
      ]
    },
    {
      "cell_type": "code",
      "execution_count": 11,
      "metadata": {
        "colab": {
          "base_uri": "https://localhost:8080/"
        },
        "id": "Gjwl82uIXEAp",
        "outputId": "dbe9c4aa-ef06-4859-d8ee-f6b9218dc7ca"
      },
      "outputs": [
        {
          "name": "stderr",
          "output_type": "stream",
          "text": [
            "25/06/20 20:38:09 WARN SparkStringUtils: Truncated the string representation of a plan since it was too large. This behavior can be adjusted by setting 'spark.sql.debug.maxToStringFields'.\n"
          ]
        },
        {
          "name": "stdout",
          "output_type": "stream",
          "text": [
            "+-------+----+----------+------------------+------------------+------------------+\n",
            "|summary|Name|Department|               Age|        experience|            salary|\n",
            "+-------+----+----------+------------------+------------------+------------------+\n",
            "|  count|   8|         7|                 6|                 8|                 8|\n",
            "|   mean|NULL|      NULL|29.833333333333332|             2.375|             76.75|\n",
            "| stddev|NULL|      NULL| 8.471520918150805|1.0606601717798212|20.513062040702607|\n",
            "|    min|  AA|        D1|                22|                 1|                46|\n",
            "|    max|  ZZ|        D4|                44|                 4|               110|\n",
            "+-------+----+----------+------------------+------------------+------------------+\n",
            "\n"
          ]
        }
      ],
      "source": [
        "# Describe dataframe\n",
        "spark_df.describe().show()"
      ]
    },
    {
      "cell_type": "code",
      "execution_count": 12,
      "metadata": {
        "colab": {
          "base_uri": "https://localhost:8080/"
        },
        "id": "aCXSkdH5ZT8U",
        "outputId": "e1acd2fe-5c2a-4adc-e453-a375551d1926"
      },
      "outputs": [
        {
          "name": "stdout",
          "output_type": "stream",
          "text": [
            "+----+----------+----+----------+------+------------------------+\n",
            "|Name|Department| Age|experience|salary|experience_after_2_years|\n",
            "+----+----------+----+----------+------+------------------------+\n",
            "|  AA|        D1|  25|         1|    70|                       3|\n",
            "|  BB|        D1|  30|         3|   100|                       5|\n",
            "|  CC|        D2|  35|         4|   110|                       6|\n",
            "|  DD|        D3|  22|         1|    60|                       3|\n",
            "|  EE|        D2|NULL|         3|    75|                       5|\n",
            "|NULL|      NULL|NULL|      NULL|  NULL|                    NULL|\n",
            "|  FF|      NULL|  44|         3|    73|                       5|\n",
            "|  ZZ|        D3|  23|         2|    46|                       4|\n",
            "|  KK|        D4|NULL|         2|    80|                       4|\n",
            "+----+----------+----+----------+------+------------------------+\n",
            "\n"
          ]
        }
      ],
      "source": [
        "#Adding new column\n",
        "spark_df=spark_df.withColumn('experience_after_2_years',spark_df['experience']+2)\n",
        "spark_df.show()"
      ]
    },
    {
      "cell_type": "code",
      "execution_count": 13,
      "metadata": {
        "colab": {
          "base_uri": "https://localhost:8080/"
        },
        "id": "MMzCqHoTaKEN",
        "outputId": "0b0dea75-65a8-4c3e-c2dd-e89f060c186a"
      },
      "outputs": [
        {
          "name": "stdout",
          "output_type": "stream",
          "text": [
            "+----+----------+----+----------+------+\n",
            "|Name|Department| Age|experience|salary|\n",
            "+----+----------+----+----------+------+\n",
            "|  AA|        D1|  25|         1|    70|\n",
            "|  BB|        D1|  30|         3|   100|\n",
            "|  CC|        D2|  35|         4|   110|\n",
            "|  DD|        D3|  22|         1|    60|\n",
            "|  EE|        D2|NULL|         3|    75|\n",
            "|NULL|      NULL|NULL|      NULL|  NULL|\n",
            "|  FF|      NULL|  44|         3|    73|\n",
            "|  ZZ|        D3|  23|         2|    46|\n",
            "|  KK|        D4|NULL|         2|    80|\n",
            "+----+----------+----+----------+------+\n",
            "\n"
          ]
        }
      ],
      "source": [
        "#drop column(s)\n",
        "spark_df=spark_df.drop('experience_after_2_years')\n",
        "spark_df.show()"
      ]
    },
    {
      "cell_type": "code",
      "execution_count": 14,
      "metadata": {
        "colab": {
          "base_uri": "https://localhost:8080/"
        },
        "id": "5chnq2KLbEAG",
        "outputId": "a7d2e795-8a98-4c7a-ce51-1c2a69e716ca"
      },
      "outputs": [
        {
          "name": "stdout",
          "output_type": "stream",
          "text": [
            "+---------+----------+----+----------+------+\n",
            "|Full Name|Department| Age|experience|salary|\n",
            "+---------+----------+----+----------+------+\n",
            "|       AA|        D1|  25|         1|    70|\n",
            "|       BB|        D1|  30|         3|   100|\n",
            "|       CC|        D2|  35|         4|   110|\n",
            "|       DD|        D3|  22|         1|    60|\n",
            "|       EE|        D2|NULL|         3|    75|\n",
            "|     NULL|      NULL|NULL|      NULL|  NULL|\n",
            "|       FF|      NULL|  44|         3|    73|\n",
            "|       ZZ|        D3|  23|         2|    46|\n",
            "|       KK|        D4|NULL|         2|    80|\n",
            "+---------+----------+----+----------+------+\n",
            "\n"
          ]
        }
      ],
      "source": [
        "#rename column(s)\n",
        "spark_df.withColumnRenamed('Name','Full Name').show()"
      ]
    },
    {
      "cell_type": "code",
      "execution_count": 15,
      "metadata": {
        "colab": {
          "base_uri": "https://localhost:8080/"
        },
        "id": "xVSOePcMbg4n",
        "outputId": "79b7b291-5670-423a-f946-015fd8573e48"
      },
      "outputs": [
        {
          "name": "stdout",
          "output_type": "stream",
          "text": [
            "+---------+------+----+----------+------+\n",
            "|Full Name|Sector| Age|experience|salary|\n",
            "+---------+------+----+----------+------+\n",
            "|       AA|    D1|  25|         1|    70|\n",
            "|       BB|    D1|  30|         3|   100|\n",
            "|       CC|    D2|  35|         4|   110|\n",
            "|       DD|    D3|  22|         1|    60|\n",
            "|       EE|    D2|NULL|         3|    75|\n",
            "|     NULL|  NULL|NULL|      NULL|  NULL|\n",
            "|       FF|  NULL|  44|         3|    73|\n",
            "|       ZZ|    D3|  23|         2|    46|\n",
            "|       KK|    D4|NULL|         2|    80|\n",
            "+---------+------+----+----------+------+\n",
            "\n"
          ]
        }
      ],
      "source": [
        "#rename column(s)\n",
        "#new_df=spark_df.withColumnRenamed('Name','Full Name').withColumnRenamed('Department','Sector')\n",
        "\n",
        "new_df=spark_df.withColumnsRenamed({'Name':'Full Name','Department':'Sector' })\n",
        "new_df.show()"
      ]
    },
    {
      "cell_type": "code",
      "execution_count": 16,
      "metadata": {
        "colab": {
          "base_uri": "https://localhost:8080/"
        },
        "id": "bQlDWZRmzyfm",
        "outputId": "b3156687-c0b9-472a-e31a-d8b449440d44"
      },
      "outputs": [
        {
          "name": "stdout",
          "output_type": "stream",
          "text": [
            "+----+----------+----+----------+----+\n",
            "|Name|Department| Age|experience|wage|\n",
            "+----+----------+----+----------+----+\n",
            "|  AA|        D1|  25|         1|  70|\n",
            "|  BB|        D1|  30|         3| 100|\n",
            "|  CC|        D2|  35|         4| 110|\n",
            "|  DD|        D3|  22|         1|  60|\n",
            "|  EE|        D2|NULL|         3|  75|\n",
            "|NULL|      NULL|NULL|      NULL|NULL|\n",
            "|  FF|      NULL|  44|         3|  73|\n",
            "|  ZZ|        D3|  23|         2|  46|\n",
            "|  KK|        D4|NULL|         2|  80|\n",
            "+----+----------+----+----------+----+\n",
            "\n"
          ]
        }
      ],
      "source": [
        "#Rename columns\n",
        "spark_df.withColumnRenamed('salary','wage').show()"
      ]
    },
    {
      "cell_type": "code",
      "execution_count": 17,
      "metadata": {
        "id": "1d-Phz0ogwB7"
      },
      "outputs": [],
      "source": [
        "#Stop session\n",
        "\n",
        "spark.stop()"
      ]
    },
    {
      "cell_type": "code",
      "execution_count": null,
      "metadata": {
        "id": "Nx-nuYcLdK05"
      },
      "outputs": [],
      "source": []
    }
  ],
  "metadata": {
    "colab": {
      "provenance": []
    },
    "kernelspec": {
      "display_name": "base",
      "language": "python",
      "name": "python3"
    },
    "language_info": {
      "codemirror_mode": {
        "name": "ipython",
        "version": 3
      },
      "file_extension": ".py",
      "mimetype": "text/x-python",
      "name": "python",
      "nbconvert_exporter": "python",
      "pygments_lexer": "ipython3",
      "version": "3.13.2"
    }
  },
  "nbformat": 4,
  "nbformat_minor": 0
}
