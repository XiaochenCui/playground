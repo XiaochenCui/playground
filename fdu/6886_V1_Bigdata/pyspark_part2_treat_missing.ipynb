{
  "cells": [
    {
      "cell_type": "code",
      "execution_count": 107,
      "metadata": {
        "id": "Wltbfi7wiKcY"
      },
      "outputs": [],
      "source": [
        "import pyspark"
      ]
    },
    {
      "cell_type": "code",
      "execution_count": 108,
      "metadata": {
        "colab": {
          "base_uri": "https://localhost:8080/",
          "height": 219
        },
        "id": "4qpRR7PBiM_1",
        "outputId": "c1bf62b2-5172-4670-92b2-d352884fe817"
      },
      "outputs": [
        {
          "data": {
            "text/html": [
              "\n",
              "            <div>\n",
              "                <p><b>SparkSession - in-memory</b></p>\n",
              "                \n",
              "        <div>\n",
              "            <p><b>SparkContext</b></p>\n",
              "\n",
              "            <p><a href=\"http://192.168.0.160:4040\">Spark UI</a></p>\n",
              "\n",
              "            <dl>\n",
              "              <dt>Version</dt>\n",
              "                <dd><code>v4.0.0</code></dd>\n",
              "              <dt>Master</dt>\n",
              "                <dd><code>local[*]</code></dd>\n",
              "              <dt>AppName</dt>\n",
              "                <dd><code>Practice</code></dd>\n",
              "            </dl>\n",
              "        </div>\n",
              "        \n",
              "            </div>\n",
              "        "
            ],
            "text/plain": [
              "<pyspark.sql.session.SparkSession at 0x7247fe84a3c0>"
            ]
          },
          "execution_count": 108,
          "metadata": {},
          "output_type": "execute_result"
        }
      ],
      "source": [
        "#Create pyspark session\n",
        "from pyspark.sql import SparkSession\n",
        "spark=SparkSession.builder.appName(\"Practice\").getOrCreate()\n",
        "spark"
      ]
    },
    {
      "cell_type": "code",
      "execution_count": 109,
      "metadata": {
        "colab": {
          "base_uri": "https://localhost:8080/"
        },
        "id": "gFh2KBYfilz-",
        "outputId": "27f3e435-1bf7-4f19-dd22-5007a8dfc055"
      },
      "outputs": [
        {
          "name": "stdout",
          "output_type": "stream",
          "text": [
            "+----+----------+----+----------+------+\n",
            "|Name|Department| Age|experience|salary|\n",
            "+----+----------+----+----------+------+\n",
            "|  AA|        D1|  25|         1|    70|\n",
            "|  BB|        D1|  30|         3|   100|\n",
            "|  CC|        D2|  35|         4|   110|\n",
            "|  DD|        D3|  22|         1|    60|\n",
            "|  EE|        D2|NULL|         3|    75|\n",
            "|NULL|      NULL|NULL|      NULL|  NULL|\n",
            "|  FF|      NULL|  44|         3|    73|\n",
            "|  ZZ|        D3|  23|         2|    46|\n",
            "|  KK|        D4|NULL|         2|    80|\n",
            "+----+----------+----+----------+------+\n",
            "\n"
          ]
        }
      ],
      "source": [
        "#Read data\n",
        "spark_df=spark.read.csv('test_file.csv',header=True,enforceSchema=True)\n",
        "spark_df.show()"
      ]
    },
    {
      "cell_type": "code",
      "execution_count": 110,
      "metadata": {
        "colab": {
          "base_uri": "https://localhost:8080/"
        },
        "id": "IWexjBeginpF",
        "outputId": "09060a13-02e1-4472-98cc-44c1f37228b6"
      },
      "outputs": [
        {
          "name": "stdout",
          "output_type": "stream",
          "text": [
            "root\n",
            " |-- Name: string (nullable = true)\n",
            " |-- Department: string (nullable = true)\n",
            " |-- Age: integer (nullable = true)\n",
            " |-- experience: integer (nullable = true)\n",
            " |-- salary: integer (nullable = true)\n",
            "\n"
          ]
        }
      ],
      "source": [
        "#Cast Columns to the Correct Data Types:\n",
        "\n",
        "from pyspark.sql.types import IntegerType, DoubleType\n",
        "\n",
        "cols=[\"Age\",\"experience\",\"salary\"]\n",
        "\n",
        "for col in cols:\n",
        "  spark_df = spark_df.withColumn(col, spark_df[col].cast(IntegerType()))\n",
        "spark_df.printSchema()"
      ]
    },
    {
      "cell_type": "code",
      "execution_count": 111,
      "metadata": {
        "colab": {
          "base_uri": "https://localhost:8080/"
        },
        "id": "a1q0Dy1Dir9x",
        "outputId": "70b6289b-b299-435e-8259-8f49904d21ce"
      },
      "outputs": [
        {
          "name": "stdout",
          "output_type": "stream",
          "text": [
            "+----+----------+----+----------+------+\n",
            "|Name|Department| Age|experience|salary|\n",
            "+----+----------+----+----------+------+\n",
            "|  AA|        D1|  25|         1|    70|\n",
            "|  BB|        D1|  30|         3|   100|\n",
            "|  CC|        D2|  35|         4|   110|\n",
            "|  DD|        D3|  22|         1|    60|\n",
            "|  EE|        D2|NULL|         3|    75|\n",
            "|NULL|      NULL|NULL|      NULL|  NULL|\n",
            "|  FF|      NULL|  44|         3|    73|\n",
            "|  ZZ|        D3|  23|         2|    46|\n",
            "|  KK|        D4|NULL|         2|    80|\n",
            "+----+----------+----+----------+------+\n",
            "\n"
          ]
        }
      ],
      "source": [
        "spark_df.show()"
      ]
    },
    {
      "cell_type": "markdown",
      "metadata": {
        "id": "6BuN9h0XkqXD"
      },
      "source": [
        "**Drop Nan/Null values**"
      ]
    },
    {
      "cell_type": "markdown",
      "metadata": {
        "id": "V9wGHGPAkoUH"
      },
      "source": []
    },
    {
      "cell_type": "code",
      "execution_count": 112,
      "metadata": {
        "colab": {
          "base_uri": "https://localhost:8080/"
        },
        "id": "FNccvEwli7lF",
        "outputId": "a0be8066-ef84-41dc-a5c4-9ec58676f49d"
      },
      "outputs": [
        {
          "name": "stdout",
          "output_type": "stream",
          "text": [
            "+----+----------+---+----------+------+\n",
            "|Name|Department|Age|experience|salary|\n",
            "+----+----------+---+----------+------+\n",
            "|  AA|        D1| 25|         1|    70|\n",
            "|  BB|        D1| 30|         3|   100|\n",
            "|  CC|        D2| 35|         4|   110|\n",
            "|  DD|        D3| 22|         1|    60|\n",
            "|  ZZ|        D3| 23|         2|    46|\n",
            "+----+----------+---+----------+------+\n",
            "\n"
          ]
        }
      ],
      "source": [
        "#Drop nulls\n",
        "spark_df.dropna( ).show()\n",
        "\n",
        "\n",
        "#spark_df.na.drop().show()"
      ]
    },
    {
      "cell_type": "code",
      "execution_count": 113,
      "metadata": {
        "colab": {
          "base_uri": "https://localhost:8080/"
        },
        "id": "RsDsV7j8jM-s",
        "outputId": "59d4e4d8-638e-48c8-b33c-881f9bfd11cd"
      },
      "outputs": [
        {
          "name": "stdout",
          "output_type": "stream",
          "text": [
            "+----+----------+----+----------+------+\n",
            "|Name|Department| Age|experience|salary|\n",
            "+----+----------+----+----------+------+\n",
            "|  AA|        D1|  25|         1|    70|\n",
            "|  BB|        D1|  30|         3|   100|\n",
            "|  CC|        D2|  35|         4|   110|\n",
            "|  DD|        D3|  22|         1|    60|\n",
            "|  EE|        D2|NULL|         3|    75|\n",
            "|  FF|      NULL|  44|         3|    73|\n",
            "|  ZZ|        D3|  23|         2|    46|\n",
            "|  KK|        D4|NULL|         2|    80|\n",
            "+----+----------+----+----------+------+\n",
            "\n"
          ]
        }
      ],
      "source": [
        "# how='any', 'all'\n",
        "\n",
        "spark_df.dropna(how='all').show()"
      ]
    },
    {
      "cell_type": "code",
      "execution_count": 114,
      "metadata": {
        "colab": {
          "base_uri": "https://localhost:8080/"
        },
        "id": "kc96-zDgj0i-",
        "outputId": "a1398351-f50a-4db6-b924-984313faf4b5"
      },
      "outputs": [
        {
          "name": "stdout",
          "output_type": "stream",
          "text": [
            "+----+----------+----+----------+------+\n",
            "|Name|Department| Age|experience|salary|\n",
            "+----+----------+----+----------+------+\n",
            "|  AA|        D1|  25|         1|    70|\n",
            "|  BB|        D1|  30|         3|   100|\n",
            "|  CC|        D2|  35|         4|   110|\n",
            "|  DD|        D3|  22|         1|    60|\n",
            "|  EE|        D2|NULL|         3|    75|\n",
            "|  ZZ|        D3|  23|         2|    46|\n",
            "|  KK|        D4|NULL|         2|    80|\n",
            "+----+----------+----+----------+------+\n",
            "\n"
          ]
        }
      ],
      "source": [
        "#subset\n",
        "spark_df.dropna(subset=['Department']).show()"
      ]
    },
    {
      "cell_type": "code",
      "execution_count": 115,
      "metadata": {
        "colab": {
          "base_uri": "https://localhost:8080/"
        },
        "id": "chWhc6spBvp-",
        "outputId": "b93acaf3-ac2f-4fb9-c87d-dc626e1b90d5"
      },
      "outputs": [
        {
          "name": "stdout",
          "output_type": "stream",
          "text": [
            "+----+----------+----+----------+------+\n",
            "|Name|Department| Age|experience|salary|\n",
            "+----+----------+----+----------+------+\n",
            "|  AA|        D1|  25|         1|    70|\n",
            "|  BB|        D1|  30|         3|   100|\n",
            "|  CC|        D2|  35|         4|   110|\n",
            "|  DD|        D3|  22|         1|    60|\n",
            "|  EE|        D2|NULL|         3|    75|\n",
            "|NULL|      NULL|NULL|      NULL|  NULL|\n",
            "|  FF|      NULL|  44|         3|    73|\n",
            "|  ZZ|        D3|  23|         2|    46|\n",
            "|  KK|        D4|NULL|         2|    80|\n",
            "+----+----------+----+----------+------+\n",
            "\n"
          ]
        }
      ],
      "source": [
        "spark_df.show()"
      ]
    },
    {
      "cell_type": "markdown",
      "metadata": {
        "id": "o2Tr8jQGlAUM"
      },
      "source": [
        "**#Filling Null values**"
      ]
    },
    {
      "cell_type": "code",
      "execution_count": 116,
      "metadata": {
        "colab": {
          "base_uri": "https://localhost:8080/"
        },
        "id": "97_XFSdBlD07",
        "outputId": "90263338-e359-4bdf-d51d-72d81afce8e6"
      },
      "outputs": [
        {
          "name": "stdout",
          "output_type": "stream",
          "text": [
            "+----+----------+---+----------+------+\n",
            "|Name|Department|Age|experience|salary|\n",
            "+----+----------+---+----------+------+\n",
            "|  AA|        D1| 25|         1|    70|\n",
            "|  BB|        D1| 30|         3|   100|\n",
            "|  CC|        D2| 35|         4|   110|\n",
            "|  DD|        D3| 22|         1|    60|\n",
            "|  EE|        D2| 30|         3|    75|\n",
            "|NULL|      NULL| 30|      NULL|  NULL|\n",
            "|  FF|      NULL| 44|         3|    73|\n",
            "|  ZZ|        D3| 23|         2|    46|\n",
            "|  KK|        D4| 30|         2|    80|\n",
            "+----+----------+---+----------+------+\n",
            "\n"
          ]
        }
      ],
      "source": [
        "#1) filling with values\n",
        "spark_df.fillna(30,'Age').show()"
      ]
    },
    {
      "cell_type": "code",
      "execution_count": 117,
      "metadata": {
        "colab": {
          "base_uri": "https://localhost:8080/"
        },
        "id": "nbOFpCdOla_4",
        "outputId": "796e7a10-760d-417e-ef1a-04312e043e75"
      },
      "outputs": [
        {
          "name": "stdout",
          "output_type": "stream",
          "text": [
            "+----+----------+---+----------+------+\n",
            "|Name|Department|Age|experience|salary|\n",
            "+----+----------+---+----------+------+\n",
            "|  AA|        D1| 25|         1|    70|\n",
            "|  BB|        D1| 30|         3|   100|\n",
            "|  CC|        D2| 35|         4|   110|\n",
            "|  DD|        D3| 22|         1|    60|\n",
            "|  EE|        D2| 30|         3|    75|\n",
            "|NULL|   Unknown| 30|      NULL|  NULL|\n",
            "|  FF|   Unknown| 44|         3|    73|\n",
            "|  ZZ|        D3| 23|         2|    46|\n",
            "|  KK|        D4| 30|         2|    80|\n",
            "+----+----------+---+----------+------+\n",
            "\n"
          ]
        }
      ],
      "source": [
        "# spark_df.fillna('Unkown',['Department']).show()\n",
        "# spark_df.fillna('30',['Age']).show()\n",
        "\n",
        "spark_df.fillna({'Age':30,'Department':'Unknown'}).show()\n",
        "\n",
        "spark_df = spark_df.fillna({'Age':30,'Department':'Unknown'})\n"
      ]
    },
    {
      "cell_type": "code",
      "execution_count": 118,
      "metadata": {
        "colab": {
          "base_uri": "https://localhost:8080/"
        },
        "id": "1lpM9YsDnOgc",
        "outputId": "e4586b10-44dd-40fa-b561-ad2647e3bff0"
      },
      "outputs": [
        {
          "name": "stdout",
          "output_type": "stream",
          "text": [
            "+----+----------+---+----------+------+\n",
            "|Name|Department|Age|experience|salary|\n",
            "+----+----------+---+----------+------+\n",
            "|  AA|        D1| 25|         1|    70|\n",
            "|  BB|        D1| 30|         3|   100|\n",
            "|  CC|        D2| 35|         4|   110|\n",
            "|  DD|        D3| 22|         1|    60|\n",
            "|  EE|        D2| 30|         3|    75|\n",
            "|NULL|   Unknown| 30|      NULL|  NULL|\n",
            "|  FF|   Unknown| 44|         3|    73|\n",
            "|  ZZ|        D3| 23|         2|    46|\n",
            "|  KK|        D4| 30|         2|    80|\n",
            "+----+----------+---+----------+------+\n",
            "\n"
          ]
        }
      ],
      "source": [
        "spark_df.show()"
      ]
    },
    {
      "cell_type": "code",
      "execution_count": 119,
      "metadata": {
        "colab": {
          "base_uri": "https://localhost:8080/"
        },
        "id": "2O6Egto3lkV0",
        "outputId": "c5c564d2-ffbe-4bb6-a52a-bc72ddcd0072"
      },
      "outputs": [
        {
          "name": "stdout",
          "output_type": "stream",
          "text": [
            "+----+----------+---+----------+------+\n",
            "|Name|Department|Age|experience|salary|\n",
            "+----+----------+---+----------+------+\n",
            "|  AA|        D1| 25|         1|    70|\n",
            "|  BB|        D1| 30|         3|   100|\n",
            "|  CC|        D2| 35|         4|   110|\n",
            "|  DD|        D3| 22|         1|    60|\n",
            "|  EE|        D2| 30|         3|    75|\n",
            "|NULL|   Unknown| 30|      NULL|  NULL|\n",
            "|  FF|   Unknown| 44|         3|    73|\n",
            "|  ZZ|        D3| 23|         2|    46|\n",
            "|  KK|        D4| 30|         2|    80|\n",
            "+----+----------+---+----------+------+\n",
            "\n"
          ]
        }
      ],
      "source": [
        "#2)filling numeric columns with stats using imputer\n",
        "\n",
        "from pyspark.ml.feature import Imputer\n",
        "imputer=Imputer(inputCols=['Age'],outputCols=['Age']).setStrategy('mean')     #or mode, median\n",
        "df_imputed=imputer.fit(spark_df).transform(spark_df)\n",
        "\n",
        "df_imputed.show()\n"
      ]
    },
    {
      "cell_type": "code",
      "execution_count": 120,
      "metadata": {
        "colab": {
          "base_uri": "https://localhost:8080/"
        },
        "id": "CYd0CvYEnJSW",
        "outputId": "3c216c64-0b81-49f3-9f73-859e976bdb59"
      },
      "outputs": [
        {
          "name": "stdout",
          "output_type": "stream",
          "text": [
            "D1\n",
            "+----+----------+---+----------+------+\n",
            "|Name|Department|Age|experience|salary|\n",
            "+----+----------+---+----------+------+\n",
            "|  AA|        D1| 25|         1|    70|\n",
            "|  BB|        D1| 30|         3|   100|\n",
            "|  CC|        D2| 35|         4|   110|\n",
            "|  DD|        D3| 22|         1|    60|\n",
            "|  EE|        D2| 30|         3|    75|\n",
            "|NULL|   Unknown| 30|      NULL|  NULL|\n",
            "|  FF|   Unknown| 44|         3|    73|\n",
            "|  ZZ|        D3| 23|         2|    46|\n",
            "|  KK|        D4| 30|         2|    80|\n",
            "+----+----------+---+----------+------+\n",
            "\n"
          ]
        }
      ],
      "source": [
        "#filling categorical features with mode\n",
        "# Step 1: Calculate the mode (most frequent value)\n",
        "mode_value = df_imputed.groupBy(\"Department\").count().orderBy(\"count\", ascending=False).first()[0]\n",
        "print(mode_value)\n",
        "\n",
        "# Step 2: Use fillna() to replace nulls with the mode\n",
        "df_imputed = spark_df.fillna({'Department': mode_value})\n",
        "\n",
        "# Show the imputed DataFrame\n",
        "df_imputed.show()\n"
      ]
    }
  ],
  "metadata": {
    "colab": {
      "provenance": []
    },
    "kernelspec": {
      "display_name": "base",
      "language": "python",
      "name": "python3"
    },
    "language_info": {
      "codemirror_mode": {
        "name": "ipython",
        "version": 3
      },
      "file_extension": ".py",
      "mimetype": "text/x-python",
      "name": "python",
      "nbconvert_exporter": "python",
      "pygments_lexer": "ipython3",
      "version": "3.13.2"
    }
  },
  "nbformat": 4,
  "nbformat_minor": 0
}
