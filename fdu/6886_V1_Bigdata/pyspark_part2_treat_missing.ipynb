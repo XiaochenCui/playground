{
  "nbformat": 4,
  "nbformat_minor": 0,
  "metadata": {
    "colab": {
      "provenance": []
    },
    "kernelspec": {
      "name": "python3",
      "display_name": "Python 3"
    },
    "language_info": {
      "name": "python"
    }
  },
  "cells": [
    {
      "cell_type": "code",
      "execution_count": null,
      "metadata": {
        "id": "Wltbfi7wiKcY"
      },
      "outputs": [],
      "source": [
        "import pyspark"
      ]
    },
    {
      "cell_type": "code",
      "source": [
        "#Create pyspark session\n",
        "from pyspark.sql import SparkSession\n",
        "spark=SparkSession.builder.appName(\"Practice\").getOrCreate()\n",
        "spark"
      ],
      "metadata": {
        "colab": {
          "base_uri": "https://localhost:8080/",
          "height": 219
        },
        "id": "4qpRR7PBiM_1",
        "outputId": "c1bf62b2-5172-4670-92b2-d352884fe817"
      },
      "execution_count": null,
      "outputs": [
        {
          "output_type": "execute_result",
          "data": {
            "text/plain": [
              "<pyspark.sql.session.SparkSession at 0x7a30a0691c90>"
            ],
            "text/html": [
              "\n",
              "            <div>\n",
              "                <p><b>SparkSession - in-memory</b></p>\n",
              "                \n",
              "        <div>\n",
              "            <p><b>SparkContext</b></p>\n",
              "\n",
              "            <p><a href=\"http://abfbec709c1f:4040\">Spark UI</a></p>\n",
              "\n",
              "            <dl>\n",
              "              <dt>Version</dt>\n",
              "                <dd><code>v3.5.3</code></dd>\n",
              "              <dt>Master</dt>\n",
              "                <dd><code>local[*]</code></dd>\n",
              "              <dt>AppName</dt>\n",
              "                <dd><code>Practice</code></dd>\n",
              "            </dl>\n",
              "        </div>\n",
              "        \n",
              "            </div>\n",
              "        "
            ]
          },
          "metadata": {},
          "execution_count": 2
        }
      ]
    },
    {
      "cell_type": "code",
      "source": [
        "#Read data\n",
        "spark_df=spark.read.csv('test_file.csv',header=True,enforceSchema=True)\n",
        "spark_df.show()"
      ],
      "metadata": {
        "colab": {
          "base_uri": "https://localhost:8080/"
        },
        "id": "gFh2KBYfilz-",
        "outputId": "27f3e435-1bf7-4f19-dd22-5007a8dfc055"
      },
      "execution_count": null,
      "outputs": [
        {
          "output_type": "stream",
          "name": "stdout",
          "text": [
            "+----+----------+----+----------+------+\n",
            "|Name|Department| Age|experience|salary|\n",
            "+----+----------+----+----------+------+\n",
            "|  AA|        D1|  30|         2|   100|\n",
            "|  BB|        D1|  35|         1|   125|\n",
            "|  CC|        D3|  25|         3|   100|\n",
            "|  DD|        D2|  20|      NULL|    60|\n",
            "|  EE|      NULL|  29|         4|    95|\n",
            "|  FF|        D2|  22|         4|    90|\n",
            "|  GG|        D7|NULL|         1|    82|\n",
            "|  HH|        D2|  38|         6|   115|\n",
            "+----+----------+----+----------+------+\n",
            "\n"
          ]
        }
      ]
    },
    {
      "cell_type": "code",
      "source": [
        "#Cast Columns to the Correct Data Types:\n",
        "\n",
        "from pyspark.sql.types import IntegerType, DoubleType\n",
        "\n",
        "cols=[\"Age\",\"experience\",\"salary\"]\n",
        "\n",
        "for col in cols:\n",
        "  spark_df = spark_df.withColumn(col, spark_df[col].cast(IntegerType()))\n",
        "spark_df.printSchema()"
      ],
      "metadata": {
        "colab": {
          "base_uri": "https://localhost:8080/"
        },
        "id": "IWexjBeginpF",
        "outputId": "09060a13-02e1-4472-98cc-44c1f37228b6"
      },
      "execution_count": null,
      "outputs": [
        {
          "output_type": "stream",
          "name": "stdout",
          "text": [
            "root\n",
            " |-- Name: string (nullable = true)\n",
            " |-- Department: string (nullable = true)\n",
            " |-- Age: integer (nullable = true)\n",
            " |-- experience: integer (nullable = true)\n",
            " |-- salary: integer (nullable = true)\n",
            "\n"
          ]
        }
      ]
    },
    {
      "cell_type": "code",
      "source": [
        "spark_df.show()"
      ],
      "metadata": {
        "colab": {
          "base_uri": "https://localhost:8080/"
        },
        "id": "a1q0Dy1Dir9x",
        "outputId": "70b6289b-b299-435e-8259-8f49904d21ce"
      },
      "execution_count": null,
      "outputs": [
        {
          "output_type": "stream",
          "name": "stdout",
          "text": [
            "+----+----------+----+----------+------+\n",
            "|Name|Department| Age|experience|salary|\n",
            "+----+----------+----+----------+------+\n",
            "|  AA|        D1|  30|         2|   100|\n",
            "|  BB|        D1|  35|         1|   125|\n",
            "|  CC|        D3|  25|         3|   100|\n",
            "|  DD|        D2|  20|      NULL|    60|\n",
            "|  EE|      NULL|  29|         4|    95|\n",
            "|  FF|        D2|  22|         4|    90|\n",
            "|  GG|        D7|NULL|         1|    82|\n",
            "|  HH|        D2|  38|         6|   115|\n",
            "+----+----------+----+----------+------+\n",
            "\n"
          ]
        }
      ]
    },
    {
      "cell_type": "markdown",
      "source": [
        "**Drop Nan/Null values**"
      ],
      "metadata": {
        "id": "6BuN9h0XkqXD"
      }
    },
    {
      "cell_type": "markdown",
      "source": [],
      "metadata": {
        "id": "V9wGHGPAkoUH"
      }
    },
    {
      "cell_type": "code",
      "source": [
        "#Drop nulls\n",
        "spark_df.dropna( ).show()\n",
        "\n",
        "\n",
        "#spark_df.na.drop().show()"
      ],
      "metadata": {
        "colab": {
          "base_uri": "https://localhost:8080/"
        },
        "id": "FNccvEwli7lF",
        "outputId": "a0be8066-ef84-41dc-a5c4-9ec58676f49d"
      },
      "execution_count": null,
      "outputs": [
        {
          "output_type": "stream",
          "name": "stdout",
          "text": [
            "+----+----------+---+----------+------+\n",
            "|Name|Department|Age|experience|salary|\n",
            "+----+----------+---+----------+------+\n",
            "|  AA|        D1| 30|         2|   100|\n",
            "|  BB|        D1| 35|         1|   125|\n",
            "|  CC|        D3| 25|         3|   100|\n",
            "|  FF|        D2| 22|         4|    90|\n",
            "|  HH|        D2| 38|         6|   115|\n",
            "+----+----------+---+----------+------+\n",
            "\n"
          ]
        }
      ]
    },
    {
      "cell_type": "code",
      "source": [
        "# how='any', 'all'\n",
        "\n",
        "spark_df.dropna(how='all').show()"
      ],
      "metadata": {
        "colab": {
          "base_uri": "https://localhost:8080/"
        },
        "id": "RsDsV7j8jM-s",
        "outputId": "59d4e4d8-638e-48c8-b33c-881f9bfd11cd"
      },
      "execution_count": null,
      "outputs": [
        {
          "output_type": "stream",
          "name": "stdout",
          "text": [
            "+----+----------+----+----------+------+\n",
            "|Name|Department| Age|experience|salary|\n",
            "+----+----------+----+----------+------+\n",
            "|  AA|        D1|  30|         2|   100|\n",
            "|  BB|        D1|  35|         1|   125|\n",
            "|  CC|        D3|  25|         3|   100|\n",
            "|  DD|        D2|  20|      NULL|    60|\n",
            "|  EE|      NULL|  29|         4|    95|\n",
            "|  FF|        D2|  22|         4|    90|\n",
            "|  GG|        D7|NULL|         1|    82|\n",
            "|  HH|        D2|  38|         6|   115|\n",
            "+----+----------+----+----------+------+\n",
            "\n"
          ]
        }
      ]
    },
    {
      "cell_type": "code",
      "source": [
        "#subset\n",
        "spark_df.dropna(subset=['Department']).show()"
      ],
      "metadata": {
        "colab": {
          "base_uri": "https://localhost:8080/"
        },
        "id": "kc96-zDgj0i-",
        "outputId": "a1398351-f50a-4db6-b924-984313faf4b5"
      },
      "execution_count": null,
      "outputs": [
        {
          "output_type": "stream",
          "name": "stdout",
          "text": [
            "+----+----------+----+----------+------+\n",
            "|Name|Department| Age|experience|salary|\n",
            "+----+----------+----+----------+------+\n",
            "|  AA|        D1|  30|         2|   100|\n",
            "|  BB|        D1|  35|         1|   125|\n",
            "|  CC|        D3|  25|         3|   100|\n",
            "|  DD|        D2|  20|      NULL|    60|\n",
            "|  FF|        D2|  22|         4|    90|\n",
            "|  GG|        D7|NULL|         1|    82|\n",
            "|  HH|        D2|  38|         6|   115|\n",
            "+----+----------+----+----------+------+\n",
            "\n"
          ]
        }
      ]
    },
    {
      "cell_type": "code",
      "source": [
        "spark_df.show()"
      ],
      "metadata": {
        "colab": {
          "base_uri": "https://localhost:8080/"
        },
        "id": "chWhc6spBvp-",
        "outputId": "b93acaf3-ac2f-4fb9-c87d-dc626e1b90d5"
      },
      "execution_count": null,
      "outputs": [
        {
          "output_type": "stream",
          "name": "stdout",
          "text": [
            "+----+----------+----+----------+------+\n",
            "|Name|Department| Age|experience|salary|\n",
            "+----+----------+----+----------+------+\n",
            "|  AA|        D1|  30|         2|   100|\n",
            "|  BB|        D1|  35|         1|   125|\n",
            "|  CC|        D3|  25|         3|   100|\n",
            "|  DD|        D2|  20|      NULL|    60|\n",
            "|  EE|      NULL|  29|         4|    95|\n",
            "|  FF|        D2|  22|         4|    90|\n",
            "|  GG|        D7|NULL|         1|    82|\n",
            "|  HH|        D2|  38|         6|   115|\n",
            "+----+----------+----+----------+------+\n",
            "\n"
          ]
        }
      ]
    },
    {
      "cell_type": "markdown",
      "source": [
        "**#Filling Null values**"
      ],
      "metadata": {
        "id": "o2Tr8jQGlAUM"
      }
    },
    {
      "cell_type": "code",
      "source": [
        "#1) filling with values\n",
        "spark_df.fillna(30,'Age').show()"
      ],
      "metadata": {
        "colab": {
          "base_uri": "https://localhost:8080/"
        },
        "id": "97_XFSdBlD07",
        "outputId": "90263338-e359-4bdf-d51d-72d81afce8e6"
      },
      "execution_count": null,
      "outputs": [
        {
          "output_type": "stream",
          "name": "stdout",
          "text": [
            "+----+----------+---+----------+------+\n",
            "|Name|Department|Age|experience|salary|\n",
            "+----+----------+---+----------+------+\n",
            "|  AA|        D1| 25|         1|    70|\n",
            "|  BB|        D1| 30|         3|   100|\n",
            "|  CC|        D2| 35|         4|   110|\n",
            "|  DD|        D3| 22|         1|    60|\n",
            "|  EE|        D2| 30|         3|    75|\n",
            "|  FF|      NULL| 44|         3|    73|\n",
            "|  ZZ|        D3| 23|         2|    46|\n",
            "|  KK|        D4| 30|         2|    80|\n",
            "+----+----------+---+----------+------+\n",
            "\n"
          ]
        }
      ]
    },
    {
      "cell_type": "code",
      "source": [
        "# spark_df.fillna('Unkown',['Department']).show()\n",
        "# spark_df.fillna('30',['Age']).show()\n",
        "\n",
        "spark_df.fillna({'Age':30,'Department':'Unknown'}).show()\n"
      ],
      "metadata": {
        "colab": {
          "base_uri": "https://localhost:8080/"
        },
        "id": "nbOFpCdOla_4",
        "outputId": "796e7a10-760d-417e-ef1a-04312e043e75"
      },
      "execution_count": null,
      "outputs": [
        {
          "output_type": "stream",
          "name": "stdout",
          "text": [
            "+----+----------+---+----------+------+\n",
            "|Name|Department|Age|experience|salary|\n",
            "+----+----------+---+----------+------+\n",
            "|  AA|        D1| 30|         2|   100|\n",
            "|  BB|        D1| 35|         1|   125|\n",
            "|  CC|        D3| 25|         3|   100|\n",
            "|  DD|        D2| 20|      NULL|    60|\n",
            "|  EE|   Unknown| 29|         4|    95|\n",
            "|  FF|        D2| 22|         4|    90|\n",
            "|  GG|        D7| 30|         1|    82|\n",
            "|  HH|        D2| 38|         6|   115|\n",
            "+----+----------+---+----------+------+\n",
            "\n"
          ]
        }
      ]
    },
    {
      "cell_type": "code",
      "source": [
        "spark_df.show()"
      ],
      "metadata": {
        "colab": {
          "base_uri": "https://localhost:8080/"
        },
        "id": "1lpM9YsDnOgc",
        "outputId": "e4586b10-44dd-40fa-b561-ad2647e3bff0"
      },
      "execution_count": null,
      "outputs": [
        {
          "output_type": "stream",
          "name": "stdout",
          "text": [
            "+----+----------+----+----------+------+\n",
            "|Name|Department| Age|experience|salary|\n",
            "+----+----------+----+----------+------+\n",
            "|  AA|        D1|  30|         2|   100|\n",
            "|  BB|        D1|  35|         1|   125|\n",
            "|  CC|        D3|  25|         3|   100|\n",
            "|  DD|        D2|  20|      NULL|    60|\n",
            "|  EE|      NULL|  29|         4|    95|\n",
            "|  FF|        D2|  22|         4|    90|\n",
            "|  GG|        D7|NULL|         1|    82|\n",
            "|  HH|        D2|  38|         6|   115|\n",
            "+----+----------+----+----------+------+\n",
            "\n"
          ]
        }
      ]
    },
    {
      "cell_type": "code",
      "source": [
        "#2)filling numeric columns with stats using imputer\n",
        "\n",
        "from pyspark.ml.feature import Imputer\n",
        "imputer=Imputer(inputCols=['Age'],outputCols=['Age']).setStrategy('mean')     #or mode, median\n",
        "df_imputed=imputer.fit(spark_df).transform(spark_df)\n",
        "\n",
        "df_imputed.show()\n"
      ],
      "metadata": {
        "colab": {
          "base_uri": "https://localhost:8080/"
        },
        "id": "2O6Egto3lkV0",
        "outputId": "c5c564d2-ffbe-4bb6-a52a-bc72ddcd0072"
      },
      "execution_count": null,
      "outputs": [
        {
          "output_type": "stream",
          "name": "stdout",
          "text": [
            "+----+----------+---+----------+------+\n",
            "|Name|Department|Age|experience|salary|\n",
            "+----+----------+---+----------+------+\n",
            "|  AA|        D1| 30|         2|   100|\n",
            "|  BB|        D1| 35|         1|   125|\n",
            "|  CC|        D3| 25|         3|   100|\n",
            "|  DD|        D2| 20|      NULL|    60|\n",
            "|  EE|      NULL| 29|         4|    95|\n",
            "|  FF|        D2| 22|         4|    90|\n",
            "|  GG|        D7| 28|         1|    82|\n",
            "|  HH|        D2| 38|         6|   115|\n",
            "+----+----------+---+----------+------+\n",
            "\n"
          ]
        }
      ]
    },
    {
      "cell_type": "code",
      "source": [
        "#filling categorical features with mode\n",
        "# Step 1: Calculate the mode (most frequent value)\n",
        "mode_value = df_imputed.groupBy(\"Department\").count().orderBy(\"count\", ascending=False).first()[0]\n",
        "\n",
        "# Step 2: Use fillna() to replace nulls with the mode\n",
        "df_imputed = spark_df.fillna({'Department': mode_value})\n",
        "\n",
        "# Show the imputed DataFrame\n",
        "df_imputed.show()\n"
      ],
      "metadata": {
        "colab": {
          "base_uri": "https://localhost:8080/"
        },
        "id": "CYd0CvYEnJSW",
        "outputId": "3c216c64-0b81-49f3-9f73-859e976bdb59"
      },
      "execution_count": null,
      "outputs": [
        {
          "output_type": "stream",
          "name": "stdout",
          "text": [
            "+----+----------+----+----------+------+\n",
            "|Name|Department| Age|experience|salary|\n",
            "+----+----------+----+----------+------+\n",
            "|  AA|        D1|  30|         2|   100|\n",
            "|  BB|        D1|  35|         1|   125|\n",
            "|  CC|        D3|  25|         3|   100|\n",
            "|  DD|        D2|  20|      NULL|    60|\n",
            "|  EE|        D2|  29|         4|    95|\n",
            "|  FF|        D2|  22|         4|    90|\n",
            "|  GG|        D7|NULL|         1|    82|\n",
            "|  HH|        D2|  38|         6|   115|\n",
            "+----+----------+----+----------+------+\n",
            "\n"
          ]
        }
      ]
    }
  ]
}